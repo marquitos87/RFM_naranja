{
 "cells": [
  {
   "cell_type": "code",
   "execution_count": null,
   "metadata": {
    "scrolled": true
   },
   "outputs": [],
   "source": [
    "from query import *\n",
    "import cx_Oracle\n",
    "import pandas as pd\n",
    "import numpy as np\n",
    "import calendar\n",
    "import datetime\n",
    "\n",
    "con = cx_Oracle.connect('MMONTERO_DIS/Data1234@//cluster-dwhAIX-scan:1521/dwh_app_service', encoding = 'utf8')\n",
    "cur = con.cursor() #creo un cursor\n",
    "\n",
    "inicio = datetime.date(2020, 6, 25)\n",
    "fin = datetime.date(2020, 4, 25)\n",
    "months = -1\n",
    "fecha_final = add_months(inicio, -2)\n",
    "   \n",
    "fi_int = datetime_to_integer(inicio)\n",
    "ff_int = datetime_to_integer(fecha_final)\n",
    "fecha_init = inicio.strftime('%d/%m/%Y')\n",
    "fecha_init_month = inicio.strftime('%m/%Y')\n",
    "fecha_end = add_months(fecha_final, months).strftime('%d/%m/%Y')\n",
    "query = f_query(fi_int, ff_int, fecha_init, fecha_init_month, fecha_end)\n",
    "fecha_out = str(ff_int)\n",
    "fecha_in = str(fi_int)\n",
    "df = consulta_DW(query, cur)\n",
    "    "
   ]
  },
  {
   "cell_type": "code",
   "execution_count": null,
   "metadata": {},
   "outputs": [],
   "source": []
  }
 ],
 "metadata": {
  "kernelspec": {
   "display_name": "Python 3",
   "language": "python",
   "name": "python3"
  },
  "language_info": {
   "codemirror_mode": {
    "name": "ipython",
    "version": 3
   },
   "file_extension": ".py",
   "mimetype": "text/x-python",
   "name": "python",
   "nbconvert_exporter": "python",
   "pygments_lexer": "ipython3",
   "version": "3.7.5"
  }
 },
 "nbformat": 4,
 "nbformat_minor": 4
}
