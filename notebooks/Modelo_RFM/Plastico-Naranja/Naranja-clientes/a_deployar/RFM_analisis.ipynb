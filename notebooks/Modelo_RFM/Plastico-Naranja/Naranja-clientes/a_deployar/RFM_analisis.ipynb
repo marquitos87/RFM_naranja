{
 "cells": [
  {
   "cell_type": "code",
   "execution_count": 1,
   "metadata": {},
   "outputs": [
    {
     "name": "stdout",
     "output_type": "stream",
     "text": [
      "Lectura de datos...\n",
      "-------------------------------------------------------------------------------------------------\n",
      "Preprocesamiento...\n",
      "-------------------------------------------------------------------------------------------------\n",
      "Scoring RFM...\n",
      "-------------------------------------------------------------------------------------------------\n",
      "Procediendo a Segmentar...\n",
      "-------------------------------------------------------------------------------------------------\n",
      "Fin...\n",
      "=================================================================================================\n"
     ]
    }
   ],
   "source": [
    "from rfm_model import * \n",
    "import pandas as pd\n",
    "import numpy as np\n",
    "import calendar\n",
    "import datetime\n",
    "\n",
    "print('Lectura de datos...')\n",
    "rfm = pd.read_csv('RFM.csv')\n",
    "print('-------------------------------------------------------------------------------------------------')\n",
    "\n",
    "print('Preprocesamiento...')\n",
    "rfm = preprocesamiento(rfm)\n",
    "\n",
    "print('-------------------------------------------------------------------------------------------------')\n",
    "\n",
    "#Modelo RFM...\n",
    "print('Scoring RFM...')\n",
    "rfm = rfm_scoring(rfm)\n",
    "print('-------------------------------------------------------------------------------------------------')\n",
    "\n",
    "#Segmentos...\n",
    "print('Procediendo a Segmentar...')\n",
    "print('-------------------------------------------------------------------------------------------------')\n",
    "label_segmentos(rfm)\n",
    "print('Fin...')\n",
    "print('=================================================================================================')\n"
   ]
  },
  {
   "cell_type": "code",
   "execution_count": null,
   "metadata": {},
   "outputs": [],
   "source": []
  }
 ],
 "metadata": {
  "kernelspec": {
   "display_name": "Python 3",
   "language": "python",
   "name": "python3"
  },
  "language_info": {
   "codemirror_mode": {
    "name": "ipython",
    "version": 3
   },
   "file_extension": ".py",
   "mimetype": "text/x-python",
   "name": "python",
   "nbconvert_exporter": "python",
   "pygments_lexer": "ipython3",
   "version": "3.7.5"
  }
 },
 "nbformat": 4,
 "nbformat_minor": 4
}
