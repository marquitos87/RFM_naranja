{
 "cells": [
  {
   "cell_type": "code",
   "execution_count": 1,
   "metadata": {},
   "outputs": [],
   "source": [
    "from rfm_deployment.query_comercios_V2 import *\n",
    "import cx_Oracle\n",
    "import pandas as pd\n",
    "import numpy as np\n",
    "import matplotlib.pyplot as plt\n",
    "import seaborn as sns\n",
    "import calendar\n",
    "import datetime\n",
    "import cairo\n",
    "import gi\n",
    "gi.require_version('Gtk', '3.0')\n",
    "from gi.repository import Gtk\n",
    "\n",
    "%matplotlib inline"
   ]
  },
  {
   "cell_type": "code",
   "execution_count": 2,
   "metadata": {},
   "outputs": [],
   "source": [
    "pd.set_option('display.max_columns', 500)\n",
    "#pd.set_option('display.max_rows', 500)"
   ]
  },
  {
   "cell_type": "code",
   "execution_count": 3,
   "metadata": {},
   "outputs": [],
   "source": [
    "con = cx_Oracle.connect('MMONTERO_DIS/Data1234@//cluster-dwhAIX-scan:1521/dwh_app_service', encoding = 'utf8')\n",
    "#Acceso al data Warehouse @DWTNPROD_AIX.WORLD desde fuera de Naranja"
   ]
  },
  {
   "cell_type": "code",
   "execution_count": 4,
   "metadata": {},
   "outputs": [],
   "source": [
    "cur = con.cursor() #creo un cursor"
   ]
  },
  {
   "cell_type": "code",
   "execution_count": 5,
   "metadata": {},
   "outputs": [],
   "source": [
    "inicio = datetime.date(2020, 2, 25)\n",
    "fin = datetime.date(2019, 3, 25)\n",
    "months = -1"
   ]
  },
  {
   "cell_type": "code",
   "execution_count": 6,
   "metadata": {},
   "outputs": [
    {
     "name": "stdout",
     "output_type": "stream",
     "text": [
      "Ciclo--1:\n",
      "La fecha de inicio es: 2020-02-25. La fecha final es: 25/11/2019.\n",
      "=================================================================================================\n",
      "Ciclo--2:\n",
      "La fecha de inicio es: 2020-02-25. La fecha final es: 25/10/2019.\n",
      "=================================================================================================\n",
      "Ciclo--3:\n",
      "La fecha de inicio es: 2020-02-25. La fecha final es: 25/09/2019.\n",
      "=================================================================================================\n",
      "Ciclo--4:\n",
      "La fecha de inicio es: 2020-02-25. La fecha final es: 25/08/2019.\n",
      "=================================================================================================\n",
      "Ciclo--5:\n",
      "La fecha de inicio es: 2020-02-25. La fecha final es: 25/07/2019.\n",
      "=================================================================================================\n",
      "Ciclo--6:\n",
      "La fecha de inicio es: 2020-02-25. La fecha final es: 25/06/2019.\n",
      "=================================================================================================\n",
      "Ciclo--7:\n",
      "La fecha de inicio es: 2020-02-25. La fecha final es: 25/05/2019.\n",
      "=================================================================================================\n",
      "Ciclo--8:\n",
      "La fecha de inicio es: 2020-02-25. La fecha final es: 25/04/2019.\n",
      "=================================================================================================\n",
      "Ciclo--9:\n",
      "La fecha de inicio es: 2020-02-25. La fecha final es: 25/03/2019.\n",
      "=================================================================================================\n",
      "Ciclo--10:\n",
      "La fecha de inicio es: 2020-02-25. La fecha final es: 25/02/2019.\n",
      "=================================================================================================\n"
     ]
    }
   ],
   "source": [
    "fecha_final = add_months(inicio, -2)\n",
    "contador = 1\n",
    "\n",
    "while fecha_final >= fin :\n",
    "    \n",
    "    fi_int = datetime_to_integer(inicio)\n",
    "    ff_int = datetime_to_integer(fecha_final)\n",
    "    fecha_init = inicio.strftime('%d/%m/%Y')\n",
    "    fecha_end = add_months(fecha_final, months).strftime('%d/%m/%Y')\n",
    "    print(f'Ciclo--{contador}:')\n",
    "    print(f'La fecha de inicio es: {inicio}. La fecha final es: {fecha_end}.' )\n",
    "    label_seg = 'CUYO'\n",
    "    query = f_query(fi_int, ff_int, fecha_init, fecha_end, label_seg)\n",
    "    fecha_out = str(ff_int)\n",
    "    fecha_in = str(fi_int)\n",
    "    df = consulta_DW(query, cur, fecha_in, fecha_out, label_seg)\n",
    "    print('=================================================================================================')\n",
    "\n",
    "    #inicio = add_months(inicio, months)\n",
    "    fecha_final = add_months(fecha_final, months)\n",
    "    contador += 1\n"
   ]
  },
  {
   "cell_type": "code",
   "execution_count": 11,
   "metadata": {},
   "outputs": [],
   "source": [
    "df = pd.read_parquet('CUYO-20200225--20191125.parquet')"
   ]
  },
  {
   "cell_type": "code",
   "execution_count": 12,
   "metadata": {},
   "outputs": [
    {
     "data": {
      "text/html": [
       "<div>\n",
       "<style scoped>\n",
       "    .dataframe tbody tr th:only-of-type {\n",
       "        vertical-align: middle;\n",
       "    }\n",
       "\n",
       "    .dataframe tbody tr th {\n",
       "        vertical-align: top;\n",
       "    }\n",
       "\n",
       "    .dataframe thead th {\n",
       "        text-align: right;\n",
       "    }\n",
       "</style>\n",
       "<table border=\"1\" class=\"dataframe\">\n",
       "  <thead>\n",
       "    <tr style=\"text-align: right;\">\n",
       "      <th></th>\n",
       "      <th>CUIT</th>\n",
       "      <th>RECENCIA</th>\n",
       "      <th>FRECUENCIA</th>\n",
       "      <th>MONTO</th>\n",
       "    </tr>\n",
       "  </thead>\n",
       "  <tbody>\n",
       "  </tbody>\n",
       "</table>\n",
       "</div>"
      ],
      "text/plain": [
       "Empty DataFrame\n",
       "Columns: [CUIT, RECENCIA, FRECUENCIA, MONTO]\n",
       "Index: []"
      ]
     },
     "execution_count": 12,
     "metadata": {},
     "output_type": "execute_result"
    }
   ],
   "source": [
    "df"
   ]
  },
  {
   "cell_type": "code",
   "execution_count": null,
   "metadata": {},
   "outputs": [],
   "source": []
  }
 ],
 "metadata": {
  "kernelspec": {
   "display_name": "Python 3",
   "language": "python",
   "name": "python3"
  },
  "language_info": {
   "codemirror_mode": {
    "name": "ipython",
    "version": 3
   },
   "file_extension": ".py",
   "mimetype": "text/x-python",
   "name": "python",
   "nbconvert_exporter": "python",
   "pygments_lexer": "ipython3",
   "version": "3.7.5"
  }
 },
 "nbformat": 4,
 "nbformat_minor": 4
}
