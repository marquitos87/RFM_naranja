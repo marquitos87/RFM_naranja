{
 "cells": [
  {
   "cell_type": "code",
   "execution_count": 1,
   "metadata": {},
   "outputs": [],
   "source": [
    "from rfm_deployment.rfm_model_V2_com import *\n",
    "from itertools import product\n",
    "import cx_Oracle\n",
    "import pandas as pd\n",
    "import numpy as np\n",
    "import matplotlib.pyplot as plt\n",
    "import seaborn as sns\n",
    "import calendar\n",
    "import datetime\n",
    "import cairo\n",
    "import gi\n",
    "gi.require_version('Gtk', '3.0')\n",
    "from gi.repository import Gtk\n",
    "\n",
    "%matplotlib inline"
   ]
  },
  {
   "cell_type": "code",
   "execution_count": 2,
   "metadata": {},
   "outputs": [],
   "source": [
    "pd.set_option('display.max_columns', 500)"
   ]
  },
  {
   "cell_type": "code",
   "execution_count": 3,
   "metadata": {},
   "outputs": [],
   "source": [
    "inicio = datetime.date(2020, 2, 25)\n",
    "fin = datetime.date(2019, 3, 25)\n",
    "months = -1"
   ]
  },
  {
   "cell_type": "code",
   "execution_count": null,
   "metadata": {},
   "outputs": [],
   "source": [
    "fecha_final = add_months(inicio, -2)\n",
    "contador = 1\n",
    "\n",
    "while fecha_final >= fin :\n",
    "   \n",
    "    fi_int = datetime_to_integer(inicio)\n",
    "    ff_int = datetime_to_integer(fecha_final)\n",
    "    print(f'Ciclo--{contador}:')\n",
    "    print(f'La fecha de inicio es: {inicio}. La fecha final es: {fecha_final}.' )\n",
    "    fecha_out = str(ff_int) # Fecha límite inferior para el trimestre de interés\n",
    "    fecha_in = str(fi_int)  # Fecha límite superior para el trimestre de interés\n",
    "    label = 'CA'\n",
    "    df = pd.read_parquet(f'CA-{fecha_in}--{fecha_out}.parquet')\n",
    "    print('=================================================================================================')\n",
    "    \n",
    "    rfm_model = rfm_scoring(df, fecha_in, fecha_out, label)\n",
    "    print('-------------------------------------------------------------------------------------------------')\n",
    "\n",
    "    #rfm_corr = rfm_model[['RECENCIA', 'FRECUENCIA', 'MONTO']].corr()\n",
    "    #print('La matriz de correlacion es:')\n",
    "    #print(rfm_corr.corr())\n",
    "    #print('-------------------------------------------------------------------------------------------------')\n",
    "    \n",
    "    #bins_R = 90\n",
    "    #bins_F = 100\n",
    "    #bins_M = 100\n",
    "    #range_R = [0,90]\n",
    "    #range_F = [0, 10000]\n",
    "    #range_M = [0, 10000000]\n",
    "    #histogramas(rfm_model['RECENCIA'], rfm_model['FRECUENCIA'], rfm_model['MONTO'], \n",
    "    #        bins_R, bins_F, bins_M, range_R, range_F, range_M)\n",
    "\n",
    "    #EDA...\n",
    "    #histogramas(rfm['RECENCIA'], rfm['FRECUENCIA'], rfm['MONTO'])\n",
    "    #print('-------------------------------------------------------------------------------------------------')\n",
    "    \n",
    "    segmentar(rfm_model, fecha_in, fecha_out)\n",
    "    rfm_segmentos, dic_cuit, rfm_segmentado = label_segmentos(rfm_model, fecha_in, fecha_out,label)\n",
    "    \n",
    "   \n",
    "    #inicio = add_months(inicio, months)\n",
    "    fecha_final = add_months(fecha_final, months)\n",
    "    contador += 1\n",
    "   \n",
    "    print('=================================================================================================')\n",
    "\n"
   ]
  },
  {
   "cell_type": "code",
   "execution_count": 15,
   "metadata": {},
   "outputs": [],
   "source": [
    "fecha_out = '20191225'\n",
    "fecha_in = '20200225'\n",
    "label = 'CA'\n",
    "\n",
    "rfm_grafico = pd.read_csv(f'{label}-segment-plot-{fecha_in}--{fecha_out}.csv') \n",
    "df = pd.read_csv(f'{label}-rfm-segmentos-{fecha_in}--{fecha_out}.csv')\n",
    "\n",
    "rfm_prom = df[['RECENCIA', 'FRECUENCIA', 'MONTO', 'Segment']].groupby(['Segment']).median().round(2)\n",
    "rfm_prom = rfm_prom.rename(columns = {'RECENCIA': 'R_MEDIAN', 'FRECUENCIA': 'F_MEDIAN', 'MONTO': 'M_MEDIAN'})\n",
    "rfm_prom = rfm_prom.reset_index() \n",
    "rfm_x_grafico = pd.merge(rfm_prom, rfm_grafico, on='Segment', how='right')\n",
    "rfm_x_grafico['R_MEDIAN'].fillna('NA', inplace=True)\n",
    "rfm_x_grafico['F_MEDIAN'].fillna('NA', inplace=True)\n",
    "rfm_x_grafico['M_MEDIAN'].fillna('NA', inplace=True)\n",
    "rfm_x_grafico['%'] = rfm_x_grafico['%'].apply(lambda x : str(x)+'%')\n",
    "rfm_x_grafico['cantidad'] = rfm_x_grafico['cantidad'].apply(lambda x : str(x))\n",
    "rfm_x_grafico['R_MEDIAN'] = rfm_x_grafico['R_MEDIAN'].apply(lambda x : str(x))\n",
    "rfm_x_grafico['F_MEDIAN'] = rfm_x_grafico['F_MEDIAN'].apply(lambda x : str(x))\n",
    "rfm_x_grafico['M_MEDIAN'] = rfm_x_grafico['M_MEDIAN'].apply(lambda x : str(x))\n",
    "rfm_percentaje_dic = dict(zip(rfm_x_grafico.Segment, rfm_x_grafico['%']))\n",
    "rfm_cantidad_dic = dict(zip(rfm_x_grafico.Segment, rfm_x_grafico.cantidad))\n",
    "rfm_R_MEDIAN_dic = dict(zip(rfm_x_grafico.Segment, rfm_x_grafico.R_MEDIAN))\n",
    "rfm_F_MEDIAN_dic = dict(zip(rfm_x_grafico.Segment, rfm_x_grafico.F_MEDIAN))\n",
    "rfm_M_MEDIAN_dic = dict(zip(rfm_x_grafico.Segment, rfm_x_grafico.M_MEDIAN))\n",
    "\n",
    "app = RFM_graph()\n",
    "app.porcentajes = rfm_percentaje_dic\n",
    "app.cantidad = rfm_cantidad_dic\n",
    "app.R_MEDIAN = rfm_R_MEDIAN_dic\n",
    "app.F_MEDIAN = rfm_F_MEDIAN_dic\n",
    "app.M_MEDIAN = rfm_M_MEDIAN_dic\n",
    "Gtk.main()\n",
    "\n"
   ]
  },
  {
   "cell_type": "code",
   "execution_count": 14,
   "metadata": {},
   "outputs": [],
   "source": [
    "df1 = pd.read_parquet(f'CA-20200225--20191225.parquet')\n",
    "df2 = pd.read_parquet(f'CA-20200225--20190725.parquet')"
   ]
  },
  {
   "cell_type": "code",
   "execution_count": 15,
   "metadata": {},
   "outputs": [],
   "source": [
    "fecha_out1 = '20191225'\n",
    "fecha_in1 = '20200225'\n",
    "label = 'CA'\n",
    "rfm1 = rfm_scoring(df1, fecha_in1, fecha_out1, label)\n",
    "fecha_out2 = '20190725'\n",
    "fecha_in2 = '20200225'\n",
    "label = 'CA'\n",
    "rfm2 = rfm_scoring(df2, fecha_in2, fecha_out2, label)"
   ]
  },
  {
   "cell_type": "code",
   "execution_count": 16,
   "metadata": {},
   "outputs": [
    {
     "data": {
      "image/png": "[encoded data removed]",
      "text/plain": [
       "<Figure size 1080x595.44 with 1 Axes>"
      ]
     },
     "metadata": {
      "needs_background": "light"
     },
     "output_type": "display_data"
    },
    {
     "data": {
      "image/png": "[encoded data removed]",
      "text/plain": [
       "<Figure size 1080x595.44 with 1 Axes>"
      ]
     },
     "metadata": {
      "needs_background": "light"
     },
     "output_type": "display_data"
    }
   ],
   "source": [
    "data1 = segmentar(rfm1, fecha_in1, fecha_out1)\n",
    "data2 = segmentar(rfm2, fecha_in2, fecha_out2)"
   ]
  },
  {
   "cell_type": "code",
   "execution_count": 17,
   "metadata": {},
   "outputs": [
    {
     "data": {
      "text/plain": [
       "0.9892885061892525"
      ]
     },
     "execution_count": 17,
     "metadata": {},
     "output_type": "execute_result"
    }
   ],
   "source": [
    "data1['%'].corr(data2['%'], method='pearson')"
   ]
  },
  {
   "cell_type": "code",
   "execution_count": 18,
   "metadata": {},
   "outputs": [
    {
     "data": {
      "text/html": [
       "<div>\n",
       "<style scoped>\n",
       "    .dataframe tbody tr th:only-of-type {\n",
       "        vertical-align: middle;\n",
       "    }\n",
       "\n",
       "    .dataframe tbody tr th {\n",
       "        vertical-align: top;\n",
       "    }\n",
       "\n",
       "    .dataframe thead th {\n",
       "        text-align: right;\n",
       "    }\n",
       "</style>\n",
       "<table border=\"1\" class=\"dataframe\">\n",
       "  <thead>\n",
       "    <tr style=\"text-align: right;\">\n",
       "      <th></th>\n",
       "      <th>RFMScore</th>\n",
       "      <th>cantidad</th>\n",
       "      <th>%</th>\n",
       "    </tr>\n",
       "  </thead>\n",
       "  <tbody>\n",
       "    <tr>\n",
       "      <th>0</th>\n",
       "      <td>111</td>\n",
       "      <td>1888</td>\n",
       "      <td>7.40</td>\n",
       "    </tr>\n",
       "    <tr>\n",
       "      <th>1</th>\n",
       "      <td>112</td>\n",
       "      <td>519</td>\n",
       "      <td>2.03</td>\n",
       "    </tr>\n",
       "    <tr>\n",
       "      <th>2</th>\n",
       "      <td>113</td>\n",
       "      <td>304</td>\n",
       "      <td>1.19</td>\n",
       "    </tr>\n",
       "    <tr>\n",
       "      <th>3</th>\n",
       "      <td>114</td>\n",
       "      <td>145</td>\n",
       "      <td>0.57</td>\n",
       "    </tr>\n",
       "    <tr>\n",
       "      <th>4</th>\n",
       "      <td>115</td>\n",
       "      <td>29</td>\n",
       "      <td>0.11</td>\n",
       "    </tr>\n",
       "    <tr>\n",
       "      <th>...</th>\n",
       "      <td>...</td>\n",
       "      <td>...</td>\n",
       "      <td>...</td>\n",
       "    </tr>\n",
       "    <tr>\n",
       "      <th>120</th>\n",
       "      <td>551</td>\n",
       "      <td>11</td>\n",
       "      <td>0.04</td>\n",
       "    </tr>\n",
       "    <tr>\n",
       "      <th>121</th>\n",
       "      <td>552</td>\n",
       "      <td>102</td>\n",
       "      <td>0.40</td>\n",
       "    </tr>\n",
       "    <tr>\n",
       "      <th>122</th>\n",
       "      <td>553</td>\n",
       "      <td>400</td>\n",
       "      <td>1.57</td>\n",
       "    </tr>\n",
       "    <tr>\n",
       "      <th>123</th>\n",
       "      <td>554</td>\n",
       "      <td>1196</td>\n",
       "      <td>4.69</td>\n",
       "    </tr>\n",
       "    <tr>\n",
       "      <th>124</th>\n",
       "      <td>555</td>\n",
       "      <td>2472</td>\n",
       "      <td>9.69</td>\n",
       "    </tr>\n",
       "  </tbody>\n",
       "</table>\n",
       "<p>125 rows × 3 columns</p>\n",
       "</div>"
      ],
      "text/plain": [
       "    RFMScore  cantidad     %\n",
       "0        111      1888  7.40\n",
       "1        112       519  2.03\n",
       "2        113       304  1.19\n",
       "3        114       145  0.57\n",
       "4        115        29  0.11\n",
       "..       ...       ...   ...\n",
       "120      551        11  0.04\n",
       "121      552       102  0.40\n",
       "122      553       400  1.57\n",
       "123      554      1196  4.69\n",
       "124      555      2472  9.69\n",
       "\n",
       "[125 rows x 3 columns]"
      ]
     },
     "execution_count": 18,
     "metadata": {},
     "output_type": "execute_result"
    }
   ],
   "source": [
    "data1"
   ]
  },
  {
   "cell_type": "code",
   "execution_count": 19,
   "metadata": {},
   "outputs": [
    {
     "data": {
      "text/html": [
       "<div>\n",
       "<style scoped>\n",
       "    .dataframe tbody tr th:only-of-type {\n",
       "        vertical-align: middle;\n",
       "    }\n",
       "\n",
       "    .dataframe tbody tr th {\n",
       "        vertical-align: top;\n",
       "    }\n",
       "\n",
       "    .dataframe thead th {\n",
       "        text-align: right;\n",
       "    }\n",
       "</style>\n",
       "<table border=\"1\" class=\"dataframe\">\n",
       "  <thead>\n",
       "    <tr style=\"text-align: right;\">\n",
       "      <th></th>\n",
       "      <th>RFMScore</th>\n",
       "      <th>cantidad</th>\n",
       "      <th>%</th>\n",
       "    </tr>\n",
       "  </thead>\n",
       "  <tbody>\n",
       "    <tr>\n",
       "      <th>0</th>\n",
       "      <td>111</td>\n",
       "      <td>2098</td>\n",
       "      <td>7.74</td>\n",
       "    </tr>\n",
       "    <tr>\n",
       "      <th>1</th>\n",
       "      <td>112</td>\n",
       "      <td>495</td>\n",
       "      <td>1.83</td>\n",
       "    </tr>\n",
       "    <tr>\n",
       "      <th>2</th>\n",
       "      <td>113</td>\n",
       "      <td>286</td>\n",
       "      <td>1.06</td>\n",
       "    </tr>\n",
       "    <tr>\n",
       "      <th>3</th>\n",
       "      <td>114</td>\n",
       "      <td>109</td>\n",
       "      <td>0.40</td>\n",
       "    </tr>\n",
       "    <tr>\n",
       "      <th>4</th>\n",
       "      <td>115</td>\n",
       "      <td>16</td>\n",
       "      <td>0.06</td>\n",
       "    </tr>\n",
       "    <tr>\n",
       "      <th>...</th>\n",
       "      <td>...</td>\n",
       "      <td>...</td>\n",
       "      <td>...</td>\n",
       "    </tr>\n",
       "    <tr>\n",
       "      <th>120</th>\n",
       "      <td>551</td>\n",
       "      <td>10</td>\n",
       "      <td>0.04</td>\n",
       "    </tr>\n",
       "    <tr>\n",
       "      <th>121</th>\n",
       "      <td>552</td>\n",
       "      <td>104</td>\n",
       "      <td>0.38</td>\n",
       "    </tr>\n",
       "    <tr>\n",
       "      <th>122</th>\n",
       "      <td>553</td>\n",
       "      <td>469</td>\n",
       "      <td>1.73</td>\n",
       "    </tr>\n",
       "    <tr>\n",
       "      <th>123</th>\n",
       "      <td>554</td>\n",
       "      <td>1201</td>\n",
       "      <td>4.43</td>\n",
       "    </tr>\n",
       "    <tr>\n",
       "      <th>124</th>\n",
       "      <td>555</td>\n",
       "      <td>2605</td>\n",
       "      <td>9.61</td>\n",
       "    </tr>\n",
       "  </tbody>\n",
       "</table>\n",
       "<p>125 rows × 3 columns</p>\n",
       "</div>"
      ],
      "text/plain": [
       "    RFMScore  cantidad     %\n",
       "0        111      2098  7.74\n",
       "1        112       495  1.83\n",
       "2        113       286  1.06\n",
       "3        114       109  0.40\n",
       "4        115        16  0.06\n",
       "..       ...       ...   ...\n",
       "120      551        10  0.04\n",
       "121      552       104  0.38\n",
       "122      553       469  1.73\n",
       "123      554      1201  4.43\n",
       "124      555      2605  9.61\n",
       "\n",
       "[125 rows x 3 columns]"
      ]
     },
     "execution_count": 19,
     "metadata": {},
     "output_type": "execute_result"
    }
   ],
   "source": [
    "data2"
   ]
  },
  {
   "cell_type": "code",
   "execution_count": null,
   "metadata": {},
   "outputs": [],
   "source": []
  },
  {
   "cell_type": "code",
   "execution_count": null,
   "metadata": {},
   "outputs": [],
   "source": []
  }
 ],
 "metadata": {
  "kernelspec": {
   "display_name": "Python 3",
   "language": "python",
   "name": "python3"
  },
  "language_info": {
   "codemirror_mode": {
    "name": "ipython",
    "version": 3
   },
   "file_extension": ".py",
   "mimetype": "text/x-python",
   "name": "python",
   "nbconvert_exporter": "python",
   "pygments_lexer": "ipython3",
   "version": "3.7.5"
  }
 },
 "nbformat": 4,
 "nbformat_minor": 4
}
