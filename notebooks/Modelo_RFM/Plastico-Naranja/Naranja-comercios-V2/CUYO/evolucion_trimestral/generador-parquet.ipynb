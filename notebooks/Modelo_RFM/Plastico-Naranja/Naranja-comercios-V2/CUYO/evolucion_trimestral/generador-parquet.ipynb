{
 "cells": [
  {
   "cell_type": "code",
   "execution_count": 2,
   "metadata": {},
   "outputs": [],
   "source": [
    "from rfm_deployment.query_comercios_V2 import *\n",
    "import cx_Oracle\n",
    "import pandas as pd\n",
    "import numpy as np\n",
    "import matplotlib.pyplot as plt\n",
    "import seaborn as sns\n",
    "import calendar\n",
    "import datetime\n",
    "import cairo\n",
    "import gi\n",
    "gi.require_version('Gtk', '3.0')\n",
    "from gi.repository import Gtk\n",
    "\n",
    "%matplotlib inline"
   ]
  },
  {
   "cell_type": "code",
   "execution_count": 2,
   "metadata": {},
   "outputs": [],
   "source": [
    "pd.set_option('display.max_columns', 500)\n",
    "#pd.set_option('display.max_rows', 500)"
   ]
  },
  {
   "cell_type": "code",
   "execution_count": 3,
   "metadata": {},
   "outputs": [],
   "source": [
    "con = cx_Oracle.connect('MMONTERO_DIS/Data1234@//cluster-dwhAIX-scan:1521/dwh_app_service', encoding = 'utf8')\n",
    "#Acceso al data Warehouse @DWTNPROD_AIX.WORLD desde fuera de Naranja"
   ]
  },
  {
   "cell_type": "code",
   "execution_count": 4,
   "metadata": {},
   "outputs": [],
   "source": [
    "cur = con.cursor() #creo un cursor"
   ]
  },
  {
   "cell_type": "code",
   "execution_count": 5,
   "metadata": {},
   "outputs": [],
   "source": [
    "inicio = datetime.date(2020, 2, 25)\n",
    "fin = datetime.date(2019, 3, 25)\n",
    "months = -1"
   ]
  },
  {
   "cell_type": "code",
   "execution_count": null,
   "metadata": {},
   "outputs": [],
   "source": [
    "fecha_final = add_months(inicio, -2)\n",
    "contador = 1\n",
    "\n",
    "while fecha_final >= fin :\n",
    "    \n",
    "    fi_int = datetime_to_integer(inicio)\n",
    "    ff_int = datetime_to_integer(fecha_final)\n",
    "    fecha_init = inicio.strftime('%d/%m/%Y')\n",
    "    fecha_end = add_months(fecha_final, months).strftime('%d/%m/%Y')\n",
    "    print(f'Ciclo--{contador}:')\n",
    "    print(f'La fecha de inicio es: {inicio}. La fecha final es: {fecha_end}.' )\n",
    "    label_seg = 'CA'\n",
    "    query = f_query(fi_int, ff_int, fecha_init, fecha_end, label_seg)\n",
    "    fecha_out = str(ff_int)\n",
    "    fecha_in = str(fi_int)\n",
    "    df = consulta_DW(query, cur, fecha_in, fecha_out, label_seg)\n",
    "    print('=================================================================================================')\n",
    "\n",
    "    inicio = add_months(inicio, months)\n",
    "    fecha_final = add_months(fecha_final, months)\n",
    "    contador += 1\n"
   ]
  },
  {
   "cell_type": "code",
   "execution_count": 4,
   "metadata": {},
   "outputs": [],
   "source": [
    "df = pd.read_parquet('CA-20190525--20190325.parquet')"
   ]
  },
  {
   "cell_type": "code",
   "execution_count": 6,
   "metadata": {},
   "outputs": [
    {
     "data": {
      "text/html": [
       "<div>\n",
       "<style scoped>\n",
       "    .dataframe tbody tr th:only-of-type {\n",
       "        vertical-align: middle;\n",
       "    }\n",
       "\n",
       "    .dataframe tbody tr th {\n",
       "        vertical-align: top;\n",
       "    }\n",
       "\n",
       "    .dataframe thead th {\n",
       "        text-align: right;\n",
       "    }\n",
       "</style>\n",
       "<table border=\"1\" class=\"dataframe\">\n",
       "  <thead>\n",
       "    <tr style=\"text-align: right;\">\n",
       "      <th></th>\n",
       "      <th>CUIT</th>\n",
       "      <th>RECENCIA</th>\n",
       "      <th>FRECUENCIA</th>\n",
       "      <th>MONTO</th>\n",
       "    </tr>\n",
       "  </thead>\n",
       "  <tbody>\n",
       "    <tr>\n",
       "      <th>0</th>\n",
       "      <td>30715301926</td>\n",
       "      <td>1</td>\n",
       "      <td>552</td>\n",
       "      <td>442620.81</td>\n",
       "    </tr>\n",
       "    <tr>\n",
       "      <th>1</th>\n",
       "      <td>30531887596</td>\n",
       "      <td>1</td>\n",
       "      <td>251</td>\n",
       "      <td>196485.38</td>\n",
       "    </tr>\n",
       "    <tr>\n",
       "      <th>2</th>\n",
       "      <td>23208683284</td>\n",
       "      <td>1</td>\n",
       "      <td>55</td>\n",
       "      <td>53312.00</td>\n",
       "    </tr>\n",
       "    <tr>\n",
       "      <th>3</th>\n",
       "      <td>27368462190</td>\n",
       "      <td>1</td>\n",
       "      <td>103</td>\n",
       "      <td>118000.00</td>\n",
       "    </tr>\n",
       "    <tr>\n",
       "      <th>4</th>\n",
       "      <td>30709315923</td>\n",
       "      <td>1</td>\n",
       "      <td>251</td>\n",
       "      <td>116495.49</td>\n",
       "    </tr>\n",
       "    <tr>\n",
       "      <th>5</th>\n",
       "      <td>20202382143</td>\n",
       "      <td>1</td>\n",
       "      <td>57</td>\n",
       "      <td>89059.00</td>\n",
       "    </tr>\n",
       "    <tr>\n",
       "      <th>6</th>\n",
       "      <td>20109165086</td>\n",
       "      <td>1</td>\n",
       "      <td>32</td>\n",
       "      <td>69530.00</td>\n",
       "    </tr>\n",
       "    <tr>\n",
       "      <th>7</th>\n",
       "      <td>27176692745</td>\n",
       "      <td>1</td>\n",
       "      <td>70</td>\n",
       "      <td>115822.00</td>\n",
       "    </tr>\n",
       "    <tr>\n",
       "      <th>8</th>\n",
       "      <td>27059760772</td>\n",
       "      <td>7</td>\n",
       "      <td>24</td>\n",
       "      <td>30550.00</td>\n",
       "    </tr>\n",
       "    <tr>\n",
       "      <th>9</th>\n",
       "      <td>30711665540</td>\n",
       "      <td>7</td>\n",
       "      <td>43</td>\n",
       "      <td>44177.00</td>\n",
       "    </tr>\n",
       "  </tbody>\n",
       "</table>\n",
       "</div>"
      ],
      "text/plain": [
       "          CUIT  RECENCIA  FRECUENCIA      MONTO\n",
       "0  30715301926         1         552  442620.81\n",
       "1  30531887596         1         251  196485.38\n",
       "2  23208683284         1          55   53312.00\n",
       "3  27368462190         1         103  118000.00\n",
       "4  30709315923         1         251  116495.49\n",
       "5  20202382143         1          57   89059.00\n",
       "6  20109165086         1          32   69530.00\n",
       "7  27176692745         1          70  115822.00\n",
       "8  27059760772         7          24   30550.00\n",
       "9  30711665540         7          43   44177.00"
      ]
     },
     "execution_count": 6,
     "metadata": {},
     "output_type": "execute_result"
    }
   ],
   "source": [
    "df.head(10)"
   ]
  },
  {
   "cell_type": "code",
   "execution_count": null,
   "metadata": {},
   "outputs": [],
   "source": []
  }
 ],
 "metadata": {
  "kernelspec": {
   "display_name": "Python 3",
   "language": "python",
   "name": "python3"
  },
  "language_info": {
   "codemirror_mode": {
    "name": "ipython",
    "version": 3
   },
   "file_extension": ".py",
   "mimetype": "text/x-python",
   "name": "python",
   "nbconvert_exporter": "python",
   "pygments_lexer": "ipython3",
   "version": "3.7.5"
  }
 },
 "nbformat": 4,
 "nbformat_minor": 4
}
