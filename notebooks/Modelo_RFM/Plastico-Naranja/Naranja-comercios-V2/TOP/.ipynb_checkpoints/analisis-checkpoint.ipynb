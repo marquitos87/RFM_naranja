{
 "cells": [
  {
   "cell_type": "code",
   "execution_count": 1,
   "metadata": {},
   "outputs": [],
   "source": [
    "from rfm_deployment.rfm_model_V2_com import *\n",
    "from itertools import product\n",
    "import cx_Oracle\n",
    "import pandas as pd\n",
    "import numpy as np\n",
    "import matplotlib.pyplot as plt\n",
    "import seaborn as sns\n",
    "import calendar\n",
    "import datetime\n",
    "import cairo\n",
    "import gi\n",
    "gi.require_version('Gtk', '3.0')\n",
    "from gi.repository import Gtk\n",
    "\n",
    "%matplotlib inline"
   ]
  },
  {
   "cell_type": "code",
   "execution_count": 2,
   "metadata": {},
   "outputs": [],
   "source": [
    "pd.set_option('display.max_columns', 500)"
   ]
  },
  {
   "cell_type": "code",
   "execution_count": 3,
   "metadata": {},
   "outputs": [],
   "source": [
    "inicio = datetime.date(2020, 1, 25)\n",
    "fin = datetime.date(2018, 11, 25)\n",
    "months = -1"
   ]
  },
  {
   "cell_type": "code",
   "execution_count": null,
   "metadata": {},
   "outputs": [],
   "source": [
    "fecha_final = add_months(inicio, -2)\n",
    "contador = 1\n",
    "\n",
    "while fecha_final >= fin :\n",
    "   \n",
    "    fi_int = datetime_to_integer(inicio)\n",
    "    ff_int = datetime_to_integer(fecha_final)\n",
    "    print(f'Ciclo--{contador}:')\n",
    "    print(f'La fecha de inicio es: {inicio}. La fecha final es: {fecha_final}.' )\n",
    "    fecha_out = str(ff_int) # Fecha límite inferior para el trimestre de interés\n",
    "    fecha_in = str(fi_int)  # Fecha límite superior para el trimestre de interés\n",
    "    label = 'TOP'\n",
    "    df = pd.read_parquet(f'TOP-{fecha_in}--{fecha_out}.parquet')\n",
    "    print('=================================================================================================')\n",
    "    \n",
    "    rfm_model = rfm_scoring(df, fecha_in, fecha_out, label)\n",
    "    print('-------------------------------------------------------------------------------------------------')\n",
    "\n",
    "    #rfm_corr = rfm_model[['RECENCIA', 'FRECUENCIA', 'MONTO']].corr()\n",
    "    #print('La matriz de correlacion es:')\n",
    "    #print(rfm_corr.corr())\n",
    "    #print('-------------------------------------------------------------------------------------------------')\n",
    "    \n",
    "    #bins_R = 90\n",
    "    #bins_F = 100\n",
    "    #bins_M = 100\n",
    "    #range_R = [0,90]\n",
    "    #range_F = [0, 10000]\n",
    "    #range_M = [0, 10000000]\n",
    "    #histogramas(rfm_model['RECENCIA'], rfm_model['FRECUENCIA'], rfm_model['MONTO'], \n",
    "    #        bins_R, bins_F, bins_M, range_R, range_F, range_M)\n",
    "\n",
    "    #EDA...\n",
    "    #histogramas(rfm['RECENCIA'], rfm['FRECUENCIA'], rfm['MONTO'])\n",
    "    #print('-------------------------------------------------------------------------------------------------')\n",
    "    \n",
    "    segmentar(rfm_model, fecha_in, fecha_out)\n",
    "    rfm_segmentos, dic_cuit, rfm_segmentado = label_segmentos(rfm_model, fecha_in, fecha_out,label)\n",
    "    \n",
    "    #Creando listas para generar gráfico de lineas como función de los trimestres')\n",
    "   \n",
    "    entrada = datetime.datetime.strptime(f'{inicio}', '%Y-%m-%d').strftime('%d/%m/%Y')\n",
    "    salida = datetime.datetime.strptime(f'{fecha_final}', '%Y-%m-%d').strftime('%d/%m/%Y')\n",
    "    \n",
    "    trimestre.append(f'{entrada}--{salida}')\n",
    "    campeones.append(rfm_segmentado.loc['Campeones', '%'])\n",
    "    loyals.append(rfm_segmentado.loc['Leales', '%'])\n",
    "    potential_loyal.append(rfm_segmentado.loc['Potencialmente Leales', '%'])\n",
    "    news.append(rfm_segmentado.loc['Reciente operativo', '%'])\n",
    "    promising.append(rfm_segmentado.loc['Prometedores', '%'])\n",
    "    cant_lost.append(rfm_segmentado.loc['No se pueden perder', '%'])\n",
    "    risk.append(rfm_segmentado.loc['En Riesgo', '%'])\n",
    "    need_atention.append(rfm_segmentado.loc['Necesitan Atencion', '%'])\n",
    "    close_hibernating.append(rfm_segmentado.loc['Cercanos a Hibernar', '%'])\n",
    "    hibernating.append(rfm_segmentado.loc['Hibernando', '%'])\n",
    "   \n",
    "   \n",
    "    #inicio = add_months(inicio, months)\n",
    "    fecha_final = add_months(fecha_final, months)\n",
    "    contador += 1\n",
    "   \n",
    "    print('=================================================================================================')\n"
   ]
  },
  {
   "cell_type": "code",
   "execution_count": 5,
   "metadata": {},
   "outputs": [],
   "source": [
    "rfm_grafico = pd.read_csv(f'{label}-segment-plot-{fecha_in}--{fecha_out}.csv') \n",
    "df = pd.read_csv(f'{label}-rfm-segmentos-{fecha_in}--{fecha_out}.csv')\n",
    "\n",
    "rfm_prom = df[['RECENCIA', 'FRECUENCIA', 'MONTO', 'Segment']].groupby(['Segment']).median().round(2)\n",
    "rfm_prom = rfm_prom.rename(columns = {'RECENCIA': 'R_MEDIAN', 'FRECUENCIA': 'F_MEDIAN', 'MONTO': 'M_MEDIAN'})\n",
    "rfm_prom = rfm_prom.reset_index() \n",
    "rfm_x_grafico = pd.merge(rfm_prom, rfm_grafico, on='Segment', how='right')\n",
    "rfm_x_grafico['R_MEDIAN'].fillna('NA', inplace=True)\n",
    "rfm_x_grafico['F_MEDIAN'].fillna('NA', inplace=True)\n",
    "rfm_x_grafico['M_MEDIAN'].fillna('NA', inplace=True)\n",
    "\n",
    "rfm_x_grafico['%'] = rfm_x_grafico['%'].apply(lambda x : str(x)+'%')\n",
    "rfm_x_grafico['cantidad'] = rfm_x_grafico['cantidad'].apply(lambda x : str(x))\n",
    "rfm_x_grafico['R_MEDIAN'] = rfm_x_grafico['R_MEDIAN'].apply(lambda x : str(x))\n",
    "rfm_x_grafico['F_MEDIAN'] = rfm_x_grafico['F_MEDIAN'].apply(lambda x : str(x))\n",
    "rfm_x_grafico['M_MEDIAN'] = rfm_x_grafico['M_MEDIAN'].apply(lambda x : str(x))\n",
    "rfm_percentaje_dic = dict(zip(rfm_x_grafico.Segment, rfm_x_grafico['%']))\n",
    "rfm_cantidad_dic = dict(zip(rfm_x_grafico.Segment, rfm_x_grafico.cantidad))\n",
    "rfm_R_MEDIAN_dic = dict(zip(rfm_x_grafico.Segment, rfm_x_grafico.R_MEDIAN))\n",
    "rfm_F_MEDIAN_dic = dict(zip(rfm_x_grafico.Segment, rfm_x_grafico.F_MEDIAN))\n",
    "rfm_M_MEDIAN_dic = dict(zip(rfm_x_grafico.Segment, rfm_x_grafico.M_MEDIAN))\n",
    "\n",
    "app = RFM_graph()\n",
    "app.porcentajes = rfm_percentaje_dic\n",
    "app.cantidad = rfm_cantidad_dic\n",
    "app.R_MEDIAN = rfm_R_MEDIAN_dic\n",
    "app.F_MEDIAN = rfm_F_MEDIAN_dic\n",
    "app.M_MEDIAN = rfm_M_MEDIAN_dic\n",
    "Gtk.main()"
   ]
  },
  {
   "cell_type": "code",
   "execution_count": null,
   "metadata": {},
   "outputs": [],
   "source": []
  },
  {
   "cell_type": "code",
   "execution_count": 35,
   "metadata": {},
   "outputs": [],
   "source": [
    "df1 = pd.read_parquet(f'TOP-20200125--20191125.parquet')\n",
    "df2 = pd.read_parquet(f'TOP-20200125--20181225.parquet')"
   ]
  },
  {
   "cell_type": "code",
   "execution_count": 36,
   "metadata": {},
   "outputs": [],
   "source": [
    "fecha_out1 = '20181125'\n",
    "fecha_in1 = '20200125'\n",
    "label = 'TOP'\n",
    "rfm1 = rfm_scoring(df1, fecha_in1, fecha_out1, label)\n",
    "fecha_out2 = '20190725'\n",
    "fecha_in2 = '20200125'\n",
    "label = 'TOP'\n",
    "rfm2 = rfm_scoring(df2, fecha_in2, fecha_out2, label)"
   ]
  },
  {
   "cell_type": "code",
   "execution_count": 37,
   "metadata": {},
   "outputs": [
    {
     "data": {
      "image/png": "[encoded data removed]",
      "text/plain": [
       "<Figure size 1080x595.44 with 1 Axes>"
      ]
     },
     "metadata": {
      "needs_background": "light"
     },
     "output_type": "display_data"
    },
    {
     "data": {
      "image/png": "[encoded data removed]",
      "text/plain": [
       "<Figure size 1080x595.44 with 1 Axes>"
      ]
     },
     "metadata": {
      "needs_background": "light"
     },
     "output_type": "display_data"
    }
   ],
   "source": [
    "data1 = segmentar(rfm1, fecha_in1, fecha_out1)\n",
    "data2 = segmentar(rfm2, fecha_in2, fecha_out2)"
   ]
  },
  {
   "cell_type": "code",
   "execution_count": 38,
   "metadata": {},
   "outputs": [
    {
     "data": {
      "text/plain": [
       "0.9949823158176095"
      ]
     },
     "execution_count": 38,
     "metadata": {},
     "output_type": "execute_result"
    }
   ],
   "source": [
    "data1['%'].corr(data2['%'], method='pearson')"
   ]
  },
  {
   "cell_type": "code",
   "execution_count": 39,
   "metadata": {},
   "outputs": [
    {
     "data": {
      "text/html": [
       "<div>\n",
       "<style scoped>\n",
       "    .dataframe tbody tr th:only-of-type {\n",
       "        vertical-align: middle;\n",
       "    }\n",
       "\n",
       "    .dataframe tbody tr th {\n",
       "        vertical-align: top;\n",
       "    }\n",
       "\n",
       "    .dataframe thead th {\n",
       "        text-align: right;\n",
       "    }\n",
       "</style>\n",
       "<table border=\"1\" class=\"dataframe\">\n",
       "  <thead>\n",
       "    <tr style=\"text-align: right;\">\n",
       "      <th></th>\n",
       "      <th>RFMScore</th>\n",
       "      <th>cantidad</th>\n",
       "      <th>%</th>\n",
       "    </tr>\n",
       "  </thead>\n",
       "  <tbody>\n",
       "    <tr>\n",
       "      <th>0</th>\n",
       "      <td>111</td>\n",
       "      <td>552</td>\n",
       "      <td>6.93</td>\n",
       "    </tr>\n",
       "    <tr>\n",
       "      <th>1</th>\n",
       "      <td>112</td>\n",
       "      <td>135</td>\n",
       "      <td>1.69</td>\n",
       "    </tr>\n",
       "    <tr>\n",
       "      <th>2</th>\n",
       "      <td>113</td>\n",
       "      <td>59</td>\n",
       "      <td>0.74</td>\n",
       "    </tr>\n",
       "    <tr>\n",
       "      <th>3</th>\n",
       "      <td>114</td>\n",
       "      <td>17</td>\n",
       "      <td>0.21</td>\n",
       "    </tr>\n",
       "    <tr>\n",
       "      <th>4</th>\n",
       "      <td>115</td>\n",
       "      <td>3</td>\n",
       "      <td>0.04</td>\n",
       "    </tr>\n",
       "    <tr>\n",
       "      <th>...</th>\n",
       "      <td>...</td>\n",
       "      <td>...</td>\n",
       "      <td>...</td>\n",
       "    </tr>\n",
       "    <tr>\n",
       "      <th>120</th>\n",
       "      <td>551</td>\n",
       "      <td>1</td>\n",
       "      <td>0.01</td>\n",
       "    </tr>\n",
       "    <tr>\n",
       "      <th>121</th>\n",
       "      <td>552</td>\n",
       "      <td>16</td>\n",
       "      <td>0.20</td>\n",
       "    </tr>\n",
       "    <tr>\n",
       "      <th>122</th>\n",
       "      <td>553</td>\n",
       "      <td>99</td>\n",
       "      <td>1.24</td>\n",
       "    </tr>\n",
       "    <tr>\n",
       "      <th>123</th>\n",
       "      <td>554</td>\n",
       "      <td>430</td>\n",
       "      <td>5.40</td>\n",
       "    </tr>\n",
       "    <tr>\n",
       "      <th>124</th>\n",
       "      <td>555</td>\n",
       "      <td>997</td>\n",
       "      <td>12.52</td>\n",
       "    </tr>\n",
       "  </tbody>\n",
       "</table>\n",
       "<p>125 rows × 3 columns</p>\n",
       "</div>"
      ],
      "text/plain": [
       "    RFMScore  cantidad      %\n",
       "0        111       552   6.93\n",
       "1        112       135   1.69\n",
       "2        113        59   0.74\n",
       "3        114        17   0.21\n",
       "4        115         3   0.04\n",
       "..       ...       ...    ...\n",
       "120      551         1   0.01\n",
       "121      552        16   0.20\n",
       "122      553        99   1.24\n",
       "123      554       430   5.40\n",
       "124      555       997  12.52\n",
       "\n",
       "[125 rows x 3 columns]"
      ]
     },
     "execution_count": 39,
     "metadata": {},
     "output_type": "execute_result"
    }
   ],
   "source": [
    "data1"
   ]
  },
  {
   "cell_type": "code",
   "execution_count": 40,
   "metadata": {},
   "outputs": [
    {
     "data": {
      "text/html": [
       "<div>\n",
       "<style scoped>\n",
       "    .dataframe tbody tr th:only-of-type {\n",
       "        vertical-align: middle;\n",
       "    }\n",
       "\n",
       "    .dataframe tbody tr th {\n",
       "        vertical-align: top;\n",
       "    }\n",
       "\n",
       "    .dataframe thead th {\n",
       "        text-align: right;\n",
       "    }\n",
       "</style>\n",
       "<table border=\"1\" class=\"dataframe\">\n",
       "  <thead>\n",
       "    <tr style=\"text-align: right;\">\n",
       "      <th></th>\n",
       "      <th>RFMScore</th>\n",
       "      <th>cantidad</th>\n",
       "      <th>%</th>\n",
       "    </tr>\n",
       "  </thead>\n",
       "  <tbody>\n",
       "    <tr>\n",
       "      <th>0</th>\n",
       "      <td>111</td>\n",
       "      <td>538</td>\n",
       "      <td>6.19</td>\n",
       "    </tr>\n",
       "    <tr>\n",
       "      <th>1</th>\n",
       "      <td>112</td>\n",
       "      <td>126</td>\n",
       "      <td>1.45</td>\n",
       "    </tr>\n",
       "    <tr>\n",
       "      <th>2</th>\n",
       "      <td>113</td>\n",
       "      <td>70</td>\n",
       "      <td>0.81</td>\n",
       "    </tr>\n",
       "    <tr>\n",
       "      <th>3</th>\n",
       "      <td>114</td>\n",
       "      <td>14</td>\n",
       "      <td>0.16</td>\n",
       "    </tr>\n",
       "    <tr>\n",
       "      <th>4</th>\n",
       "      <td>115</td>\n",
       "      <td>2</td>\n",
       "      <td>0.02</td>\n",
       "    </tr>\n",
       "    <tr>\n",
       "      <th>...</th>\n",
       "      <td>...</td>\n",
       "      <td>...</td>\n",
       "      <td>...</td>\n",
       "    </tr>\n",
       "    <tr>\n",
       "      <th>120</th>\n",
       "      <td>551</td>\n",
       "      <td>0</td>\n",
       "      <td>0.00</td>\n",
       "    </tr>\n",
       "    <tr>\n",
       "      <th>121</th>\n",
       "      <td>552</td>\n",
       "      <td>15</td>\n",
       "      <td>0.17</td>\n",
       "    </tr>\n",
       "    <tr>\n",
       "      <th>122</th>\n",
       "      <td>553</td>\n",
       "      <td>103</td>\n",
       "      <td>1.19</td>\n",
       "    </tr>\n",
       "    <tr>\n",
       "      <th>123</th>\n",
       "      <td>554</td>\n",
       "      <td>446</td>\n",
       "      <td>5.13</td>\n",
       "    </tr>\n",
       "    <tr>\n",
       "      <th>124</th>\n",
       "      <td>555</td>\n",
       "      <td>1094</td>\n",
       "      <td>12.59</td>\n",
       "    </tr>\n",
       "  </tbody>\n",
       "</table>\n",
       "<p>125 rows × 3 columns</p>\n",
       "</div>"
      ],
      "text/plain": [
       "    RFMScore  cantidad      %\n",
       "0        111       538   6.19\n",
       "1        112       126   1.45\n",
       "2        113        70   0.81\n",
       "3        114        14   0.16\n",
       "4        115         2   0.02\n",
       "..       ...       ...    ...\n",
       "120      551         0   0.00\n",
       "121      552        15   0.17\n",
       "122      553       103   1.19\n",
       "123      554       446   5.13\n",
       "124      555      1094  12.59\n",
       "\n",
       "[125 rows x 3 columns]"
      ]
     },
     "execution_count": 40,
     "metadata": {},
     "output_type": "execute_result"
    }
   ],
   "source": [
    "data2"
   ]
  },
  {
   "cell_type": "code",
   "execution_count": null,
   "metadata": {},
   "outputs": [],
   "source": []
  }
 ],
 "metadata": {
  "kernelspec": {
   "display_name": "Python 3",
   "language": "python",
   "name": "python3"
  },
  "language_info": {
   "codemirror_mode": {
    "name": "ipython",
    "version": 3
   },
   "file_extension": ".py",
   "mimetype": "text/x-python",
   "name": "python",
   "nbconvert_exporter": "python",
   "pygments_lexer": "ipython3",
   "version": "3.7.5"
  }
 },
 "nbformat": 4,
 "nbformat_minor": 4
}
