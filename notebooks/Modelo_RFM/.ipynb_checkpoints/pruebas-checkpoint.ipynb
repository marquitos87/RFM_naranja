{
 "cells": [
  {
   "cell_type": "code",
   "execution_count": 1,
   "metadata": {},
   "outputs": [],
   "source": [
    "import matplotlib.pyplot as plt\n",
    "from matplotlib.patches import Rectangle\n",
    "import matplotlib.cm as cm\n",
    "from matplotlib.collections import PatchCollection\n",
    "import numpy as np\n",
    "%matplotlib inline"
   ]
  },
  {
   "cell_type": "code",
   "execution_count": 3,
   "metadata": {},
   "outputs": [
    {
     "data": {
      "image/png": "[encoded data removed]",
      "text/plain": [
       "<Figure size 432x288 with 1 Axes>"
      ]
     },
     "metadata": {
      "needs_background": "light"
     },
     "output_type": "display_data"
    }
   ],
   "source": [
    "A = np.matrix(\"1 2 1;3 0 3;1 2 0;4 1 2\") # 4x3 matrix with 2D data\n",
    "\n",
    "grid_x0 = np.array([0.0, 1.0, 4.0, 6.7])\n",
    "grid_y0 = np.array([0.0, 2.5, 4.0, 7.8, 12.4])\n",
    "\n",
    "grid_x1, grid_y1 = np.meshgrid(grid_x0, grid_y0)\n",
    "grid_x2 = grid_x1[:-1, :-1].flat\n",
    "grid_y2 = grid_y1[:-1, :-1].flat\n",
    "widths = np.tile(np.diff(grid_x0)[np.newaxis], (len(grid_y0)-1, 1)).flat\n",
    "heights = np.tile(np.diff(grid_y0)[np.newaxis].T, (1, len(grid_x0)-1)).flat\n",
    "\n",
    "fig = plt.figure()\n",
    "ax = fig.add_subplot(111)\n",
    "ptchs = []\n",
    "for x0, y0, w, h in zip(grid_x2, grid_y2, widths, heights):\n",
    "    ptchs.append(Rectangle(\n",
    "        (x0, y0), w, h,\n",
    "    ))\n",
    "p = PatchCollection(ptchs, cmap=cm.viridis, alpha=0.4)\n",
    "p.set_array(np.ravel(A))\n",
    "ax.add_collection(p)\n",
    "plt.xlim([0, 8])\n",
    "plt.ylim([0, 13])\n",
    "plt.show()"
   ]
  },
  {
   "cell_type": "code",
   "execution_count": 2,
   "metadata": {},
   "outputs": [],
   "source": [
    "a = 'cómo'"
   ]
  },
  {
   "cell_type": "code",
   "execution_count": 3,
   "metadata": {},
   "outputs": [
    {
     "data": {
      "text/plain": [
       "'cómo'"
      ]
     },
     "execution_count": 3,
     "metadata": {},
     "output_type": "execute_result"
    }
   ],
   "source": [
    "a"
   ]
  },
  {
   "cell_type": "code",
   "execution_count": 12,
   "metadata": {},
   "outputs": [
    {
     "data": {
      "image/png": "[encoded data removed]",
      "text/plain": [
       "<Figure size 432x288 with 1 Axes>"
      ]
     },
     "metadata": {
      "needs_background": "light"
     },
     "output_type": "display_data"
    }
   ],
   "source": [
    "data = [\n",
    "    [0,0,0,0,0],\n",
    "    [8,0,0,0,0],\n",
    "    [0,0,1,0,1],\n",
    "    [0,0,1,0,0],\n",
    "    [0,0,1,0,1]\n",
    "]\n",
    "\n",
    "plt.imshow(data)\n",
    "plt.xlim(0,5)\n",
    "plt.ylim(0,5)\n",
    "plt.show()\n"
   ]
  },
  {
   "cell_type": "code",
   "execution_count": 29,
   "metadata": {},
   "outputs": [
    {
     "name": "stdout",
     "output_type": "stream",
     "text": [
      "Requirement already satisfied: pgi in /home/mmontero/anaconda3/lib/python3.7/site-packages (0.0.11.2)\r\n"
     ]
    }
   ],
   "source": [
    "!pip install PyGObject\n"
   ]
  },
  {
   "cell_type": "code",
   "execution_count": 32,
   "metadata": {},
   "outputs": [
    {
     "ename": "ImportError",
     "evalue": "/home/mmontero/anaconda3/lib/python3.7/site-packages/cairo/_cairo.cpython-37m-x86_64-linux-gnu.so: undefined symbol: cairo_xcb_surface_set_size",
     "output_type": "error",
     "traceback": [
      "\u001b[0;31m---------------------------------------------------------------------------\u001b[0m",
      "\u001b[0;31mImportError\u001b[0m                               Traceback (most recent call last)",
      "\u001b[0;32m<ipython-input-32-99213c43232e>\u001b[0m in \u001b[0;36m<module>\u001b[0;34m\u001b[0m\n\u001b[1;32m      1\u001b[0m \u001b[0;31m#from gi.repository import Gtk\u001b[0m\u001b[0;34m\u001b[0m\u001b[0;34m\u001b[0m\u001b[0;34m\u001b[0m\u001b[0m\n\u001b[0;32m----> 2\u001b[0;31m \u001b[0;32mimport\u001b[0m \u001b[0mcairo\u001b[0m\u001b[0;34m\u001b[0m\u001b[0;34m\u001b[0m\u001b[0m\n\u001b[0m",
      "\u001b[0;32m~/anaconda3/lib/python3.7/site-packages/cairo/__init__.py\u001b[0m in \u001b[0;36m<module>\u001b[0;34m\u001b[0m\n\u001b[0;32m----> 1\u001b[0;31m \u001b[0;32mfrom\u001b[0m \u001b[0;34m.\u001b[0m\u001b[0m_cairo\u001b[0m \u001b[0;32mimport\u001b[0m \u001b[0;34m*\u001b[0m  \u001b[0;31m# noqa: F401,F403\u001b[0m\u001b[0;34m\u001b[0m\u001b[0;34m\u001b[0m\u001b[0m\n\u001b[0m\u001b[1;32m      2\u001b[0m \u001b[0;34m\u001b[0m\u001b[0m\n\u001b[1;32m      3\u001b[0m \u001b[0;34m\u001b[0m\u001b[0m\n\u001b[1;32m      4\u001b[0m \u001b[0;32mdef\u001b[0m \u001b[0mget_include\u001b[0m\u001b[0;34m(\u001b[0m\u001b[0;34m)\u001b[0m\u001b[0;34m:\u001b[0m\u001b[0;34m\u001b[0m\u001b[0;34m\u001b[0m\u001b[0m\n\u001b[1;32m      5\u001b[0m     \u001b[0;34m\"\"\"Returns a path to the directory containing the C header files\"\"\"\u001b[0m\u001b[0;34m\u001b[0m\u001b[0;34m\u001b[0m\u001b[0m\n",
      "\u001b[0;31mImportError\u001b[0m: /home/mmontero/anaconda3/lib/python3.7/site-packages/cairo/_cairo.cpython-37m-x86_64-linux-gnu.so: undefined symbol: cairo_xcb_surface_set_size"
     ]
    }
   ],
   "source": [
    "#from gi.repository import Gtk\n",
    "import cairo"
   ]
  },
  {
   "cell_type": "code",
   "execution_count": null,
   "metadata": {},
   "outputs": [],
   "source": [
    "class RFM_graph(Gtk.Window):\n",
    "\n",
    "    def __init__(self):\n",
    "        self.variable = []\n",
    "        super(RFM_graph, self).__init__()\n",
    "        self.init_ui()\n",
    "        self.load_image()\n",
    "       \n",
    "    def init_ui(self):    \n",
    "        darea = Gtk.DrawingArea()\n",
    "        darea.connect(\"draw\", self.on_draw)\n",
    "        self.add(darea)\n",
    "\n",
    "        self.set_title(\"Image\")\n",
    "        self.resize(300, 170)\n",
    "        self.set_position(Gtk.WindowPosition.CENTER)\n",
    "        self.connect(\"delete-event\", Gtk.main_quit)\n",
    "        self.show_all()\n",
    "       \n",
    "    def load_image(self):\n",
    "        self.ims = cairo.ImageSurface.create_from_png(\"background_rfm_gimp.png\")\n",
    "       \n",
    "    def on_draw(self, wid, cr):\n",
    "        scale = 0.8\n",
    "        cr.save()    # push a new context onto the stack\n",
    "        cr.scale(scale, scale)    # scale the context by (x, y)\n",
    "        cr.set_source_surface(self.ims, 10, 10)\n",
    "        cr.paint()\n",
    "        cr.restore()\n",
    "       \n",
    "        # Acá va el texto y su configuración\n",
    "       \n",
    "        cr.set_source_rgb(0, 0, 0)\n",
    "\n",
    "        cr.select_font_face(\"Purisa\", cairo.FONT_SLANT_NORMAL,\n",
    "            cairo.FONT_WEIGHT_NORMAL)\n",
    "        cr.set_font_size(15)\n",
    "        f_corr = scale / 0.5\n",
    "       \n",
    "        cr.move_to(138 * f_corr, 50 * f_corr)\n",
    "        cr.show_text(f\"{self.variable[0]}\")\n",
    "        cr.move_to(138 * f_corr, 140 * f_corr)\n",
    "        cr.show_text(f\"{self.variable[1]}\")\n",
    "        cr.move_to(138 * f_corr, 263 * f_corr)\n",
    "        cr.show_text(f\"{self.variable[2]}\")\n",
    "        cr.move_to(395 * f_corr, 80 * f_corr)\n",
    "        cr.show_text(f\"{self.variable[3]}\")\n",
    "        cr.move_to(585 * f_corr, 80 * f_corr)\n",
    "        cr.show_text(f\"{self.variable[4]}\")\n",
    "        cr.move_to(585 * f_corr, 290 * f_corr)\n",
    "        cr.show_text(f\"{self.variable[5]}\")\n",
    "        cr.move_to(465 * f_corr, 290 * f_corr)\n",
    "        cr.show_text(f\"{self.variable[6]}\")\n",
    "        cr.move_to(340 * f_corr, 265 * f_corr)\n",
    "        cr.show_text(f\"{self.variable[7]}\")\n",
    "        cr.move_to(340 * f_corr, 170 * f_corr)\n",
    "        cr.show_text(f\"{self.variable[8]}\")\n",
    "        cr.move_to(525 * f_corr, 200 * f_corr)\n",
    "        cr.show_text(f\"{self.variable[9]}\")"
   ]
  },
  {
   "cell_type": "code",
   "execution_count": 1,
   "metadata": {},
   "outputs": [
    {
     "name": "stderr",
     "output_type": "stream",
     "text": [
      "/home/mmontero/Proyectos/NARANJA/Modelo_RFM/funciones.py:9: PyGIWarning: Gtk was imported without specifying a version first. Use gi.require_version('Gtk', '3.0') before import to ensure that the right version gets loaded.\n",
      "  from gi.repository import Gtk\n"
     ]
    }
   ],
   "source": [
    "from funciones import *"
   ]
  },
  {
   "cell_type": "code",
   "execution_count": 2,
   "metadata": {},
   "outputs": [],
   "source": [
    "con = cx_Oracle.connect('MMONTERO_DIS/Data1234@//cluster-dwhAIX-scan:1521/dwh_app_service', encoding = 'utf8')\n",
    "#Acceso al data Warehouse @DWTNPROD_AIX.WORLD desde fuera de Naranja"
   ]
  },
  {
   "cell_type": "code",
   "execution_count": 3,
   "metadata": {},
   "outputs": [],
   "source": [
    "cur = con.cursor() #creo un cursor"
   ]
  },
  {
   "cell_type": "code",
   "execution_count": 4,
   "metadata": {},
   "outputs": [],
   "source": [
    "query = (\"\"\"select f.dim_cuentas, c.dni, f.importe, f.moneda, f.fecha, f.rubro\n",
    "\n",
    "from      \n",
    "\n",
    "(select a.dim_cuentas dim_cuentas, a.met_importe importe, a.atr_moneda moneda, a.atr_fecha_presentacion fecha, a.dim_rubros, b.rubro_descripcion rubro\n",
    "\n",
    "from dw.fac_consumos_comercios a\n",
    "\n",
    "inner join dw.dim_rubros b\n",
    "\n",
    "on b.dimension_key = a.dim_rubros) f\n",
    "\n",
    "inner join\n",
    "\n",
    "(SELECT a.dim_cuentas dim_cuentas, b.dni dni\n",
    "\n",
    "         FROM DW.FAC_CUENTAS_SALDOS a\n",
    "\n",
    "         INNER JOIN DW.dim_CLIENTES b\n",
    "\n",
    "         ON b.DIMENSION_KEY = a.DIM_CLIENTES\n",
    "\n",
    "         group by a.dim_cuentas, b.dni\n",
    "\n",
    "         ) c\n",
    "\n",
    "on f.dim_cuentas = c.dim_cuentas\n",
    "\n",
    "where c.dni = 33015351\n",
    "\n",
    "order by f.fecha ASC \"\"\" )"
   ]
  },
  {
   "cell_type": "code",
   "execution_count": 5,
   "metadata": {},
   "outputs": [
    {
     "data": {
      "text/plain": [
       "<cx_Oracle.Cursor on <cx_Oracle.Connection to MMONTERO_DIS@//cluster-dwhAIX-scan:1521/dwh_app_service>>"
      ]
     },
     "execution_count": 5,
     "metadata": {},
     "output_type": "execute_result"
    }
   ],
   "source": [
    "cur.execute(query)"
   ]
  },
  {
   "cell_type": "code",
   "execution_count": 6,
   "metadata": {},
   "outputs": [],
   "source": [
    "res = cur.fetchall()"
   ]
  },
  {
   "cell_type": "code",
   "execution_count": 7,
   "metadata": {},
   "outputs": [],
   "source": [
    "columns = [c[0] for c in cur.description]"
   ]
  },
  {
   "cell_type": "code",
   "execution_count": 8,
   "metadata": {},
   "outputs": [],
   "source": [
    "data = pd.DataFrame( data = res , columns=columns)"
   ]
  },
  {
   "cell_type": "code",
   "execution_count": 9,
   "metadata": {},
   "outputs": [
    {
     "data": {
      "text/html": [
       "<div>\n",
       "<style scoped>\n",
       "    .dataframe tbody tr th:only-of-type {\n",
       "        vertical-align: middle;\n",
       "    }\n",
       "\n",
       "    .dataframe tbody tr th {\n",
       "        vertical-align: top;\n",
       "    }\n",
       "\n",
       "    .dataframe thead th {\n",
       "        text-align: right;\n",
       "    }\n",
       "</style>\n",
       "<table border=\"1\" class=\"dataframe\">\n",
       "  <thead>\n",
       "    <tr style=\"text-align: right;\">\n",
       "      <th></th>\n",
       "      <th>DIM_CUENTAS</th>\n",
       "      <th>DNI</th>\n",
       "      <th>IMPORTE</th>\n",
       "      <th>MONEDA</th>\n",
       "      <th>FECHA</th>\n",
       "      <th>RUBRO</th>\n",
       "    </tr>\n",
       "  </thead>\n",
       "  <tbody>\n",
       "    <tr>\n",
       "      <th>0</th>\n",
       "      <td>1250433344</td>\n",
       "      <td>33015351</td>\n",
       "      <td>681.61</td>\n",
       "      <td>Dolares</td>\n",
       "      <td>2017-01-07</td>\n",
       "      <td>LOCAL INTERNO</td>\n",
       "    </tr>\n",
       "    <tr>\n",
       "      <th>1</th>\n",
       "      <td>1250433344</td>\n",
       "      <td>33015351</td>\n",
       "      <td>116.41</td>\n",
       "      <td>Pesos</td>\n",
       "      <td>2017-01-16</td>\n",
       "      <td>SEGUROS GENERALES</td>\n",
       "    </tr>\n",
       "    <tr>\n",
       "      <th>2</th>\n",
       "      <td>1250433344</td>\n",
       "      <td>33015351</td>\n",
       "      <td>-116.41</td>\n",
       "      <td>Pesos</td>\n",
       "      <td>2017-01-16</td>\n",
       "      <td>SEGUROS GENERALES</td>\n",
       "    </tr>\n",
       "    <tr>\n",
       "      <th>3</th>\n",
       "      <td>1250433344</td>\n",
       "      <td>33015351</td>\n",
       "      <td>10704.86</td>\n",
       "      <td>Pesos</td>\n",
       "      <td>2017-02-08</td>\n",
       "      <td>ELECTRODOMESTICOS.</td>\n",
       "    </tr>\n",
       "    <tr>\n",
       "      <th>4</th>\n",
       "      <td>1250433344</td>\n",
       "      <td>33015351</td>\n",
       "      <td>50.00</td>\n",
       "      <td>Pesos</td>\n",
       "      <td>2017-02-17</td>\n",
       "      <td>SEGUROS GENERALES</td>\n",
       "    </tr>\n",
       "  </tbody>\n",
       "</table>\n",
       "</div>"
      ],
      "text/plain": [
       "   DIM_CUENTAS       DNI   IMPORTE   MONEDA      FECHA               RUBRO\n",
       "0   1250433344  33015351    681.61  Dolares 2017-01-07       LOCAL INTERNO\n",
       "1   1250433344  33015351    116.41    Pesos 2017-01-16   SEGUROS GENERALES\n",
       "2   1250433344  33015351   -116.41    Pesos 2017-01-16   SEGUROS GENERALES\n",
       "3   1250433344  33015351  10704.86    Pesos 2017-02-08  ELECTRODOMESTICOS.\n",
       "4   1250433344  33015351     50.00    Pesos 2017-02-17   SEGUROS GENERALES"
      ]
     },
     "execution_count": 9,
     "metadata": {},
     "output_type": "execute_result"
    }
   ],
   "source": [
    "data.head()"
   ]
  },
  {
   "cell_type": "code",
   "execution_count": 10,
   "metadata": {},
   "outputs": [],
   "source": [
    "data.to_csv('prueba.csv', index = False)"
   ]
  },
  {
   "cell_type": "code",
   "execution_count": null,
   "metadata": {},
   "outputs": [],
   "source": []
  }
 ],
 "metadata": {
  "kernelspec": {
   "display_name": "Python 3",
   "language": "python",
   "name": "python3"
  },
  "language_info": {
   "codemirror_mode": {
    "name": "ipython",
    "version": 3
   },
   "file_extension": ".py",
   "mimetype": "text/x-python",
   "name": "python",
   "nbconvert_exporter": "python",
   "pygments_lexer": "ipython3",
   "version": "3.7.5"
  }
 },
 "nbformat": 4,
 "nbformat_minor": 2
}
