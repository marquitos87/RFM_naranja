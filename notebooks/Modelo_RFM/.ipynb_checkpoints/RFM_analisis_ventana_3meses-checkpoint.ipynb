{
 "cells": [
  {
   "cell_type": "code",
   "execution_count": 1,
   "metadata": {
    "scrolled": true
   },
   "outputs": [
    {
     "name": "stderr",
     "output_type": "stream",
     "text": [
      "/home/mmontero/Proyectos/NARANJA/Modelo_RFM/funciones.py:9: PyGIWarning: Gtk was imported without specifying a version first. Use gi.require_version('Gtk', '3.0') before import to ensure that the right version gets loaded.\n",
      "  from gi.repository import Gtk\n"
     ]
    }
   ],
   "source": [
    "from funciones import *\n",
    "%matplotlib inline"
   ]
  },
  {
   "cell_type": "code",
   "execution_count": 2,
   "metadata": {},
   "outputs": [],
   "source": [
    "pd.set_option('display.max_columns', 500)"
   ]
  },
  {
   "cell_type": "code",
   "execution_count": 3,
   "metadata": {},
   "outputs": [],
   "source": [
    "inicio = datetime.date(2019, 11, 25)\n",
    "fin = datetime.date(2018, 10, 25)\n",
    "months = -1"
   ]
  },
  {
   "cell_type": "code",
   "execution_count": null,
   "metadata": {
    "scrolled": false
   },
   "outputs": [],
   "source": [
    "fecha_final = add_months(inicio, -2)\n",
    "contador = 1\n",
    "\n",
    "trimestre = []\n",
    "campeones = []\n",
    "loyals = []\n",
    "potential_loyal = []\n",
    "news = []\n",
    "promising = []\n",
    "cant_lost = []\n",
    "risk = []\n",
    "need_atention = []\n",
    "close_hibernating = []\n",
    "hibernating = []\n",
    "\n",
    "while fecha_final >= fin :\n",
    "   \n",
    "    fi_int = datetime_to_integer(inicio)\n",
    "    ff_int = datetime_to_integer(fecha_final)\n",
    "    print(f'Ciclo--{contador}:')\n",
    "    print(f'La fecha de inicio es: {inicio}. La fecha final es: {fecha_final}.' )\n",
    "    fecha_out = str(ff_int)\n",
    "    fecha_in = str(fi_int)\n",
    "    rfm = pd.read_csv(f'rfm-final-{fecha_in}--{fecha_out}.csv')\n",
    "    #EDA...\n",
    "    #print('EDA')\n",
    "    #hist_R(rfm['RECENCIA'])\n",
    "    #hist_F(rfm['FRECUENCIA'])\n",
    "    #hist_M(rfm['MONTO'])\n",
    "   \n",
    "    #rfm_corr = rfm.drop(['DIM_CUENTAS', 'TIPO_CUENTA', 'DNI'], axis = 1)\n",
    "    #print('La matriz de correlacion es:')\n",
    "    #print(rfm_corr.corr())\n",
    "    #print('=================================================================================================')\n",
    "   \n",
    "    #RFM...\n",
    "    #print(f'Comenzando RFM--{contador}..')\n",
    "    #rfm = rfm_scoring(rfm, fecha_in, fecha_out)\n",
    "    #print(rfm)\n",
    "   # print('=================================================================================================')\n",
    "   \n",
    "    #print('Algunas graficas...')\n",
    "    #rfm.groupby('Total_score')['MONTO'].mean().plot(kind='bar', colormap='Blues_r')\n",
    "    #rfm.groupby('Total_score')['FRECUENCIA'].mean().plot(kind='bar', colormap='Blues_r')\n",
    "    #rfm.groupby('Total_score')['RECENCIA'].mean().plot(kind='bar', colormap='Blues_r')\n",
    "   \n",
    "    print('=================================================================================================')\n",
    "    #Procediendo a Segmentar...\n",
    "    print('Procediendo a segmentar...')\n",
    "    segmentar(rfm, fecha_in, fecha_out)\n",
    "    #print('=================================================================================================')\n",
    "   \n",
    "    #Segmentos...\n",
    "    rfm_segmentado = label_segmentos(rfm, fecha_in, fecha_out)\n",
    "   \n",
    "   # print('=================================================================================================')\n",
    "    print('Creando listas para generar gráfico de lineas como función de los trimestres')\n",
    "   \n",
    "    entrada = datetime.datetime.strptime(f'{inicio}', '%Y-%m-%d').strftime('%d/%m/%Y')\n",
    "    salida = datetime.datetime.strptime(f'{fecha_final}', '%Y-%m-%d').strftime('%d/%m/%Y')\n",
    "    \n",
    "    trimestre.append(f'{entrada}--{salida}')\n",
    "    campeones.append(rfm_segmentado.loc['Campeones', '%'])\n",
    "    loyals.append(rfm_segmentado.loc['Leales', '%'])\n",
    "    potential_loyal.append(rfm_segmentado.loc['Potencialmente Leales', '%'])\n",
    "    news.append(rfm_segmentado.loc['Nuevos', '%'])\n",
    "    promising.append(rfm_segmentado.loc['Prometedores', '%'])\n",
    "    cant_lost.append(rfm_segmentado.loc['No se pueden perder', '%'])\n",
    "    risk.append(rfm_segmentado.loc['En Riesgo', '%'])\n",
    "    need_atention.append(rfm_segmentado.loc['Necesitan Atencion', '%'])\n",
    "    close_hibernating.append(rfm_segmentado.loc['Cercanos a Hibernar', '%'])\n",
    "    hibernating.append(rfm_segmentado.loc['Hibernando', '%'])\n",
    "   \n",
    "   \n",
    "    print('=================================================================================================')\n",
    "    print('=================================================================================================')\n",
    "    inicio = add_months(inicio, months)\n",
    "    fecha_final = add_months(fecha_final, months)\n",
    "    contador += 1\n",
    "   \n",
    "   \n",
    "dic = {'Trimestre': trimestre ,'Campeones': campeones , 'Leales': loyals, 'Potencialmente Leales': potential_loyal,\n",
    "       'Nuevos': news, 'Prometedores': promising, 'No se pueden perder': cant_lost,'En Riesgo': risk ,\n",
    "       'Necesitan Atencion': need_atention , 'Cercanos a Hibernar': close_hibernating , 'Hibernando': hibernating} \n",
    "\n",
    "df_lineas = pd.DataFrame(dic)\n"
   ]
  },
  {
   "cell_type": "code",
   "execution_count": 4,
   "metadata": {},
   "outputs": [
    {
     "ename": "NameError",
     "evalue": "name 'df_lineas' is not defined",
     "output_type": "error",
     "traceback": [
      "\u001b[0;31m---------------------------------------------------------------------------\u001b[0m",
      "\u001b[0;31mNameError\u001b[0m                                 Traceback (most recent call last)",
      "\u001b[0;32m<ipython-input-4-ca0bb51441f2>\u001b[0m in \u001b[0;36m<module>\u001b[0;34m\u001b[0m\n\u001b[0;32m----> 1\u001b[0;31m \u001b[0mdf_lineas\u001b[0m\u001b[0;34m.\u001b[0m\u001b[0mto_csv\u001b[0m\u001b[0;34m(\u001b[0m\u001b[0;34m'1anio_porcentajes.csv'\u001b[0m\u001b[0;34m,\u001b[0m \u001b[0mindex\u001b[0m \u001b[0;34m=\u001b[0m \u001b[0;32mFalse\u001b[0m\u001b[0;34m)\u001b[0m\u001b[0;34m\u001b[0m\u001b[0;34m\u001b[0m\u001b[0m\n\u001b[0m",
      "\u001b[0;31mNameError\u001b[0m: name 'df_lineas' is not defined"
     ]
    }
   ],
   "source": [
    "df_lineas.to_csv('1anio_porcentajes.csv', index = False)"
   ]
  },
  {
   "cell_type": "markdown",
   "metadata": {},
   "source": [
    "# Criterios de segmentación:"
   ]
  },
  {
   "cell_type": "markdown",
   "metadata": {},
   "source": [
    "$Campeones$--- Compran frecuentemente con alto costo.\n",
    "\n",
    "$Leales$--- Compran regularmente. Tienden a responder a las ofertas.\n",
    "\n",
    "$Potencialmente\\ Leales$--- Compradores recientes con una frecuencia promedio.\n",
    "\n",
    "$Nuevos$--- Compraron recientemente pero con baja frecuencia.\n",
    "\n",
    "$Prometedores$---Compradores recientes aunque no hayan gastado mucho.\n",
    "\n",
    "$Necesitan\\ Atencion$---Poseen valores medios de las 3 variables. Puede que no hayan comprado recientemente.\n",
    "\n",
    "$Cercanos\\ a\\ Hibernar$---Recencia y Frecuencia por debajo de los valores medios. Tienden a desactivarse si no se estimulan.\n",
    "\n",
    "$En\\ Riesgo$---Compraron mucho pero hace mucho tiempo (alta recencia). Hay que estimularlos pronto!\n",
    "\n",
    "$No\\ se\\ pueden\\ perder$---Compran demasiado pero cada mucho tiempo. Elaborar estrategias que estimulen compras menos lejanas entre si\n",
    "\n",
    "$Hibernando$---Compraron muy poco y hace mucho tiempo. Elaborar estrategias para activarlos."
   ]
  },
  {
   "cell_type": "code",
   "execution_count": 5,
   "metadata": {},
   "outputs": [],
   "source": [
    "df_lineas = pd.read_csv('1anio_porcentajes.csv')\n"
   ]
  },
  {
   "cell_type": "code",
   "execution_count": 6,
   "metadata": {
    "scrolled": true
   },
   "outputs": [
    {
     "data": {
      "image/png": "[encoded data removed]",
      "text/plain": [
       "<Figure size 1080x720 with 1 Axes>"
      ]
     },
     "metadata": {
      "needs_background": "light"
     },
     "output_type": "display_data"
    }
   ],
   "source": [
    "plt.figure(figsize = (15,10))\n",
    "plt.plot('Trimestre', 'Campeones', data = df_lineas, marker = 'o', markerfacecolor = 'blue', markersize = 6, color = 'blue', linewidth = 1 )\n",
    "plt.plot('Trimestre', 'Leales', data = df_lineas, marker = 'o', markerfacecolor = 'red', markersize = 6, color = 'red', linewidth = 1 )\n",
    "plt.plot('Trimestre', 'Potencialmente Leales', data = df_lineas, marker = 'o', markerfacecolor = 'green', markersize = 6, color = 'green', linewidth = 1 )\n",
    "plt.plot('Trimestre', 'Nuevos', data = df_lineas, marker = 'o', markerfacecolor = 'black', markersize = 6, color = 'black', linewidth = 1 )\n",
    "plt.plot('Trimestre', 'Prometedores', data = df_lineas, marker = 'o', markerfacecolor = 'olive', markersize = 6, color = 'olive', linewidth = 1 )\n",
    "plt.plot('Trimestre', 'No se pueden perder', data = df_lineas, marker = 'o', markerfacecolor = 'yellow', markersize = 6, color = 'yellow', linewidth = 1 )\n",
    "plt.plot('Trimestre', 'En Riesgo', data = df_lineas, marker = 'o', markerfacecolor = 'blue', markersize = 6, color = 'skyblue', linewidth = 1 )\n",
    "plt.plot('Trimestre', 'Necesitan Atencion', data = df_lineas, marker = 'o', markerfacecolor = 'brown', markersize = 6, color = 'brown', linewidth = 1 )\n",
    "plt.plot('Trimestre', 'Cercanos a Hibernar', data = df_lineas, marker = 'o', markerfacecolor = 'magenta', markersize = 6, color = 'magenta', linewidth = 1 )\n",
    "plt.plot('Trimestre', 'Hibernando', data = df_lineas, marker = 'o', markerfacecolor = 'pink', markersize = 6, color = 'pink', linewidth = 1 )\n",
    "#plt.xlim(0, 18)\n",
    "plt.legend(loc = 'upper right', prop ={'size': 12})\n",
    "plt.xticks(ha='right',rotation=45)\n",
    "plt.xlabel('Trimestre')\n",
    "plt.ylabel('% poblacion')\n",
    "plt.savefig('lineas_tiempo.pdf')\n"
   ]
  },
  {
   "cell_type": "code",
   "execution_count": 16,
   "metadata": {},
   "outputs": [],
   "source": [
    "rfm_grafico = pd.read_csv('line_plot-20191125--20190925.csv')"
   ]
  },
  {
   "cell_type": "code",
   "execution_count": 17,
   "metadata": {
    "scrolled": false
   },
   "outputs": [
    {
     "data": {
      "text/html": [
       "<div>\n",
       "<style scoped>\n",
       "    .dataframe tbody tr th:only-of-type {\n",
       "        vertical-align: middle;\n",
       "    }\n",
       "\n",
       "    .dataframe tbody tr th {\n",
       "        vertical-align: top;\n",
       "    }\n",
       "\n",
       "    .dataframe thead th {\n",
       "        text-align: right;\n",
       "    }\n",
       "</style>\n",
       "<table border=\"1\" class=\"dataframe\">\n",
       "  <thead>\n",
       "    <tr style=\"text-align: right;\">\n",
       "      <th></th>\n",
       "      <th>Segment</th>\n",
       "      <th>cantidad</th>\n",
       "      <th>%</th>\n",
       "    </tr>\n",
       "  </thead>\n",
       "  <tbody>\n",
       "    <tr>\n",
       "      <th>0</th>\n",
       "      <td>Campeones</td>\n",
       "      <td>396934</td>\n",
       "      <td>14.669573</td>\n",
       "    </tr>\n",
       "    <tr>\n",
       "      <th>1</th>\n",
       "      <td>Leales</td>\n",
       "      <td>518426</td>\n",
       "      <td>19.159578</td>\n",
       "    </tr>\n",
       "    <tr>\n",
       "      <th>2</th>\n",
       "      <td>Potencialmente Leales</td>\n",
       "      <td>353281</td>\n",
       "      <td>13.056280</td>\n",
       "    </tr>\n",
       "    <tr>\n",
       "      <th>3</th>\n",
       "      <td>Nuevos</td>\n",
       "      <td>29392</td>\n",
       "      <td>1.086246</td>\n",
       "    </tr>\n",
       "    <tr>\n",
       "      <th>4</th>\n",
       "      <td>Prometedores</td>\n",
       "      <td>41867</td>\n",
       "      <td>1.547287</td>\n",
       "    </tr>\n",
       "    <tr>\n",
       "      <th>5</th>\n",
       "      <td>No se pueden perder</td>\n",
       "      <td>42569</td>\n",
       "      <td>1.573231</td>\n",
       "    </tr>\n",
       "    <tr>\n",
       "      <th>6</th>\n",
       "      <td>En Riesgo</td>\n",
       "      <td>252445</td>\n",
       "      <td>9.329663</td>\n",
       "    </tr>\n",
       "    <tr>\n",
       "      <th>7</th>\n",
       "      <td>Necesitan Atencion</td>\n",
       "      <td>108226</td>\n",
       "      <td>3.999731</td>\n",
       "    </tr>\n",
       "    <tr>\n",
       "      <th>8</th>\n",
       "      <td>Cercanos a Hibernar</td>\n",
       "      <td>197977</td>\n",
       "      <td>7.316677</td>\n",
       "    </tr>\n",
       "    <tr>\n",
       "      <th>9</th>\n",
       "      <td>Hibernando</td>\n",
       "      <td>764715</td>\n",
       "      <td>28.261732</td>\n",
       "    </tr>\n",
       "  </tbody>\n",
       "</table>\n",
       "</div>"
      ],
      "text/plain": [
       "                 Segment  cantidad          %\n",
       "0              Campeones    396934  14.669573\n",
       "1                 Leales    518426  19.159578\n",
       "2  Potencialmente Leales    353281  13.056280\n",
       "3                 Nuevos     29392   1.086246\n",
       "4           Prometedores     41867   1.547287\n",
       "5    No se pueden perder     42569   1.573231\n",
       "6              En Riesgo    252445   9.329663\n",
       "7     Necesitan Atencion    108226   3.999731\n",
       "8    Cercanos a Hibernar    197977   7.316677\n",
       "9             Hibernando    764715  28.261732"
      ]
     },
     "execution_count": 17,
     "metadata": {},
     "output_type": "execute_result"
    }
   ],
   "source": [
    "rfm_grafico"
   ]
  },
  {
   "cell_type": "code",
   "execution_count": 18,
   "metadata": {},
   "outputs": [],
   "source": [
    "rfm_grafico['%'] = rfm_grafico['%'].apply(lambda x : str(int(x))+'%')"
   ]
  },
  {
   "cell_type": "code",
   "execution_count": 19,
   "metadata": {},
   "outputs": [],
   "source": [
    "rfm_grafico['cantidad'] = rfm_grafico['cantidad'].apply(lambda x : str(x))"
   ]
  },
  {
   "cell_type": "code",
   "execution_count": 20,
   "metadata": {},
   "outputs": [
    {
     "data": {
      "text/html": [
       "<div>\n",
       "<style scoped>\n",
       "    .dataframe tbody tr th:only-of-type {\n",
       "        vertical-align: middle;\n",
       "    }\n",
       "\n",
       "    .dataframe tbody tr th {\n",
       "        vertical-align: top;\n",
       "    }\n",
       "\n",
       "    .dataframe thead th {\n",
       "        text-align: right;\n",
       "    }\n",
       "</style>\n",
       "<table border=\"1\" class=\"dataframe\">\n",
       "  <thead>\n",
       "    <tr style=\"text-align: right;\">\n",
       "      <th></th>\n",
       "      <th>Segment</th>\n",
       "      <th>cantidad</th>\n",
       "      <th>%</th>\n",
       "    </tr>\n",
       "  </thead>\n",
       "  <tbody>\n",
       "    <tr>\n",
       "      <th>0</th>\n",
       "      <td>Campeones</td>\n",
       "      <td>396934</td>\n",
       "      <td>14%</td>\n",
       "    </tr>\n",
       "    <tr>\n",
       "      <th>1</th>\n",
       "      <td>Leales</td>\n",
       "      <td>518426</td>\n",
       "      <td>19%</td>\n",
       "    </tr>\n",
       "    <tr>\n",
       "      <th>2</th>\n",
       "      <td>Potencialmente Leales</td>\n",
       "      <td>353281</td>\n",
       "      <td>13%</td>\n",
       "    </tr>\n",
       "    <tr>\n",
       "      <th>3</th>\n",
       "      <td>Nuevos</td>\n",
       "      <td>29392</td>\n",
       "      <td>1%</td>\n",
       "    </tr>\n",
       "    <tr>\n",
       "      <th>4</th>\n",
       "      <td>Prometedores</td>\n",
       "      <td>41867</td>\n",
       "      <td>1%</td>\n",
       "    </tr>\n",
       "  </tbody>\n",
       "</table>\n",
       "</div>"
      ],
      "text/plain": [
       "                 Segment cantidad    %\n",
       "0              Campeones   396934  14%\n",
       "1                 Leales   518426  19%\n",
       "2  Potencialmente Leales   353281  13%\n",
       "3                 Nuevos    29392   1%\n",
       "4           Prometedores    41867   1%"
      ]
     },
     "execution_count": 20,
     "metadata": {},
     "output_type": "execute_result"
    }
   ],
   "source": [
    "rfm_grafico.head()"
   ]
  },
  {
   "cell_type": "code",
   "execution_count": 39,
   "metadata": {},
   "outputs": [],
   "source": [
    "rfm_percentaje_dic = dict(zip(rfm_grafico.Segment, rfm_grafico['%']))"
   ]
  },
  {
   "cell_type": "code",
   "execution_count": 41,
   "metadata": {},
   "outputs": [],
   "source": [
    "rfm_cantidad_dic = dict(zip(rfm_grafico.Segment, rfm_grafico.cantidad))"
   ]
  },
  {
   "cell_type": "code",
   "execution_count": 42,
   "metadata": {},
   "outputs": [
    {
     "data": {
      "text/plain": [
       "{'Campeones': '14%',\n",
       " 'Leales': '19%',\n",
       " 'Potencialmente Leales': '13%',\n",
       " 'Nuevos': '1%',\n",
       " 'Prometedores': '1%',\n",
       " 'No se pueden perder': '1%',\n",
       " 'En Riesgo': '9%',\n",
       " 'Necesitan Atencion': '3%',\n",
       " 'Cercanos a Hibernar': '7%',\n",
       " 'Hibernando': '28%'}"
      ]
     },
     "execution_count": 42,
     "metadata": {},
     "output_type": "execute_result"
    }
   ],
   "source": [
    "rfm_percentaje_dic"
   ]
  },
  {
   "cell_type": "code",
   "execution_count": 43,
   "metadata": {},
   "outputs": [
    {
     "data": {
      "text/plain": [
       "{'Campeones': '396934',\n",
       " 'Leales': '518426',\n",
       " 'Potencialmente Leales': '353281',\n",
       " 'Nuevos': '29392',\n",
       " 'Prometedores': '41867',\n",
       " 'No se pueden perder': '42569',\n",
       " 'En Riesgo': '252445',\n",
       " 'Necesitan Atencion': '108226',\n",
       " 'Cercanos a Hibernar': '197977',\n",
       " 'Hibernando': '764715'}"
      ]
     },
     "execution_count": 43,
     "metadata": {},
     "output_type": "execute_result"
    }
   ],
   "source": [
    "rfm_cantidad_dic"
   ]
  },
  {
   "cell_type": "code",
   "execution_count": 12,
   "metadata": {},
   "outputs": [],
   "source": [
    "app = RFM_graph()\n",
    "app.porcentajes = rfm_percentaje_dic\n",
    "app.cantidad = rfm_cantidad_dic\n",
    "Gtk.main()"
   ]
  },
  {
   "cell_type": "code",
   "execution_count": null,
   "metadata": {},
   "outputs": [],
   "source": []
  }
 ],
 "metadata": {
  "kernelspec": {
   "display_name": "Python 3",
   "language": "python",
   "name": "python3"
  },
  "language_info": {
   "codemirror_mode": {
    "name": "ipython",
    "version": 3
   },
   "file_extension": ".py",
   "mimetype": "text/x-python",
   "name": "python",
   "nbconvert_exporter": "python",
   "pygments_lexer": "ipython3",
   "version": "3.7.5"
  }
 },
 "nbformat": 4,
 "nbformat_minor": 2
}
